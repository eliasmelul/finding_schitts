{
 "cells": [
  {
   "cell_type": "markdown",
   "metadata": {},
   "source": [
    "___\n",
    "\n",
    "<a href='https://github.com/eliasmelul/'> <img src='https://s3.us-east-2.amazonaws.com/wordontheamazon.com/NoMargin_NewLogo.png' style='width: 15em;' align='right' /></a>\n",
    "# Finding my Schitt's Creek\n",
    "#### Recommender System\n",
    "___\n",
    "<h3 align=\"right\">by Elias Melul, Data Scientist </h3> \n",
    "\n",
    "___\n"
   ]
  },
  {
   "cell_type": "code",
   "execution_count": 1,
   "metadata": {},
   "outputs": [],
   "source": [
    "import pandas as pd\n",
    "from sklearn.metrics.pairwise import cosine_similarity\n",
    "\n",
    "%matplotlib inline"
   ]
  },
  {
   "cell_type": "markdown",
   "metadata": {},
   "source": [
    "#### Import Dataframe"
   ]
  },
  {
   "cell_type": "code",
   "execution_count": 2,
   "metadata": {},
   "outputs": [],
   "source": [
    "norm_df = pd.read_csv('https://s3.us-east-2.amazonaws.com/www.findingmyschittscreek.com/Data/normalized_df_sub.csv', index_col=0)"
   ]
  },
  {
   "cell_type": "markdown",
   "metadata": {},
   "source": [
    "#### Variables Considered\n",
    "\n",
    "This recommendation system takes into consideration a multitude of variables scraped, selected, processed and modeled in the following notebooks:\n",
    "1. <a href=\"https://github.com/eliasmelul/finding_schitts/blob/master/weather_data_FMSC.ipynb\">Weather Data</a> --- <a href=\"https://s3.us-east-2.amazonaws.com/www.findingmyschittscreek.com/Data/final_weather_data.csv\">Data Direct Download</a>\n",
    "2. <a href=\"https://github.com/eliasmelul/finding_schitts/blob/master/general_data_FMSC.ipynb\">General Socioeconomic Data</a> --- <a href=\"https://s3.us-east-2.amazonaws.com/www.findingmyschittscreek.com/Data/scraped_datausa.csv\">Data Direct Download</a>\n",
    "3. <a href=\"https://github.com/eliasmelul/finding_schitts/blob/master/Foursquare_data_FMSC.ipynb\">Venue Data: Foursquare</a> --- <a href=\"https://s3.us-east-2.amazonaws.com/www.findingmyschittscreek.com/Data/one_hot_encoded_usa_FS.csv\">Data Direct Download</a>\n",
    "4. <a href=\"https://github.com/eliasmelul/finding_schitts/blob/master/EDA_FMSC.ipynb\">Exploratory Data Analysis and Preprocessing</a> --- <a href=\"https://s3.us-east-2.amazonaws.com/www.findingmyschittscreek.com/Data/allDataCombined.csv\">Data Direct Download</a>\n",
    "5. <a href=\"https://github.com/eliasmelul/finding_schitts/blob/master/modeling_LM_FMSC.ipynb\">Modeling: Weights</a> --- <a href=\"https://s3.us-east-2.amazonaws.com/www.findingmyschittscreek.com/Data/normalized_df_sub.csv\">Data Direct Download</a>\n",
    "\n",
    "---\n",
    "\n",
    "# Recommendation System\n",
    "\n",
    "### Function Definition\n"
   ]
  },
  {
   "cell_type": "code",
   "execution_count": 3,
   "metadata": {},
   "outputs": [],
   "source": [
    "def from_city_cosSim(data, name):\n",
    "\n",
    "    try:\n",
    "        Xs = data[data.City == name].drop('City',1)\n",
    "        Col_A = data[data.City != name].City\n",
    "        Ys = data[data.City != name].drop('City',1)\n",
    "\n",
    "        cosSim = cosine_similarity(X=Xs,Y=Ys)\n",
    "        sim = list(cosSim[0])\n",
    "        cty = list(Col_A)\n",
    "        comb = {\"City\":cty,\"Similarity\":sim}\n",
    "        dfdf = pd.DataFrame(comb).reset_index()\n",
    "\n",
    "        # Adding a row with the Y City\n",
    "        currCity = {\"City\":name,\"Similarity\":1}\n",
    "        curr = pd.DataFrame(currCity, index=[0])\n",
    "\n",
    "        # Concatenate to finalize DF\n",
    "        dfdf = pd.concat([dfdf,curr], sort=False).reset_index(drop=True).drop('index',1)\n",
    "        return(dfdf)\n",
    "    except:\n",
    "        print(\"Wrong input: this entry will be ignored\")"
   ]
  },
  {
   "cell_type": "code",
   "execution_count": 4,
   "metadata": {},
   "outputs": [],
   "source": [
    "def input_cities(numShow=10):\n",
    "    # create class that defines cities\n",
    "    class rated_city:\n",
    "        def __init__(self, city):\n",
    "            self.city = city\n",
    "    \n",
    "    #Loop to input cities based on the user\n",
    "    add_city = True\n",
    "    userInput = []\n",
    "    w = 0\n",
    "    while add_city == True:\n",
    "        city_name = input(\"City (Include state - Ex. New York, NY): \")\n",
    "        userInput.append(city_name)\n",
    "        simSim = from_city_cosSim(data=norm_df, name=city_name)\n",
    "        try:\n",
    "            cosSim = cosSim.merge(simSim, how='inner', on='City')\n",
    "        except:\n",
    "            cosSim = simSim\n",
    "        \n",
    "        city = rated_city(city_name)\n",
    "        cont = input(\"Do you want to include another city?\")\n",
    "        add_city = cont.lower() in ['yes','true','of course','y','si','1']\n",
    "        w+=1\n",
    "    \n",
    "    simCols = cosSim.drop(\"City\",1)\n",
    "    cits = cosSim.City\n",
    "        \n",
    "    for i, row in simCols.iterrows():\n",
    "        simCols.at[i,'SumVal'] = row.sum()/w\n",
    "    simi = simCols.SumVal\n",
    "    \n",
    "    out = {\"City\":cits,\"Score\":simi}\n",
    "    out = pd.DataFrame(out).set_index(\"City\").drop(userInput)\n",
    "    out = out.sort_values('Score', ascending=False)\n",
    "    \n",
    "    return out.head(numShow)      "
   ]
  },
  {
   "cell_type": "markdown",
   "metadata": {},
   "source": [
    "## Recommendations\n",
    "\n",
    "---\n",
    "**Use:** to use this system, all you have to do is run the _input_cities()_ function. This will return a list of the most similar cities - the recommendations!"
   ]
  },
  {
   "cell_type": "code",
   "execution_count": null,
   "metadata": {},
   "outputs": [],
   "source": [
    "input_cities()"
   ]
  }
 ],
 "metadata": {
  "kernelspec": {
   "display_name": "Python 3",
   "language": "python",
   "name": "python3"
  },
  "language_info": {
   "codemirror_mode": {
    "name": "ipython",
    "version": 3
   },
   "file_extension": ".py",
   "mimetype": "text/x-python",
   "name": "python",
   "nbconvert_exporter": "python",
   "pygments_lexer": "ipython3",
   "version": "3.7.4"
  }
 },
 "nbformat": 4,
 "nbformat_minor": 2
}
